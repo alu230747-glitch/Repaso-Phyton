{
  "nbformat": 4,
  "nbformat_minor": 0,
  "metadata": {
    "colab": {
      "provenance": [],
      "authorship_tag": "ABX9TyNRJ3vu+wOATqBYIOqGp5pu",
      "include_colab_link": true
    },
    "kernelspec": {
      "name": "python3",
      "display_name": "Python 3"
    },
    "language_info": {
      "name": "python"
    }
  },
  "cells": [
    {
      "cell_type": "markdown",
      "metadata": {
        "id": "view-in-github",
        "colab_type": "text"
      },
      "source": [
        "<a href=\"https://colab.research.google.com/github/alu230747-glitch/Repaso-Phyton/blob/main/AbrilHD.ipynb\" target=\"_parent\"><img src=\"https://colab.research.google.com/assets/colab-badge.svg\" alt=\"Open In Colab\"/></a>"
      ]
    },
    {
      "cell_type": "markdown",
      "source": [],
      "metadata": {
        "id": "l4_ostA91Zrq"
      }
    },
    {
      "cell_type": "markdown",
      "source": [
        "Programa 2 capturar nombre materno y paterno e imprimirlo en la pantalla"
      ],
      "metadata": {
        "id": "UfywdeZ_1bj5"
      }
    },
    {
      "cell_type": "code",
      "source": [],
      "metadata": {
        "id": "zCyR6ACF17KQ"
      },
      "execution_count": null,
      "outputs": []
    },
    {
      "cell_type": "code",
      "source": [],
      "metadata": {
        "id": "xWaU5oKX17Ea"
      },
      "execution_count": null,
      "outputs": []
    },
    {
      "cell_type": "code",
      "source": [
        "print(\"Ingresa tu nombre\")\n",
        "n=(input(\"Captura tu nombre\"))\n",
        "p=(input(\"Captura tu nombre paterno\"))\n",
        "m=(input(\"captura tu nombre materno\"))\n",
        "print(n+p+m)"
      ],
      "metadata": {
        "colab": {
          "base_uri": "https://localhost:8080/"
        },
        "id": "cDwTfMTc1pVZ",
        "outputId": "d8b0a077-e328-4e6f-d974-e13ee57c79bd"
      },
      "execution_count": null,
      "outputs": [
        {
          "output_type": "stream",
          "name": "stdout",
          "text": [
            "Ingresa tu nombre\n"
          ]
        }
      ]
    },
    {
      "cell_type": "code",
      "execution_count": 5,
      "metadata": {
        "colab": {
          "base_uri": "https://localhost:8080/"
        },
        "id": "Xcu3T91Pz7G3",
        "outputId": "9c8101d6-ff44-48f3-b0ed-8bc539666e73"
      },
      "outputs": [
        {
          "output_type": "stream",
          "name": "stdout",
          "text": [
            "Hola Mundo\n",
            "Captura tu nombreAbril\n",
            "Abril\n"
          ]
        }
      ],
      "source": [
        "\n",
        "print(\"Hola Mundo\")\n",
        "nombre=(input(\"Captura tu nombre\"))\n",
        "print(nombre)"
      ]
    }
  ]
}