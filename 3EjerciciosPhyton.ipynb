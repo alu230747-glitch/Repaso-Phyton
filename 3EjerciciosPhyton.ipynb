{
  "nbformat": 4,
  "nbformat_minor": 0,
  "metadata": {
    "colab": {
      "provenance": [],
      "authorship_tag": "ABX9TyOCghhrqOt03hPlGiQ+lOYN",
      "include_colab_link": true
    },
    "kernelspec": {
      "name": "python3",
      "display_name": "Python 3"
    },
    "language_info": {
      "name": "python"
    }
  },
  "cells": [
    {
      "cell_type": "markdown",
      "metadata": {
        "id": "view-in-github",
        "colab_type": "text"
      },
      "source": [
        "<a href=\"https://colab.research.google.com/github/alu230747-glitch/Repaso-Phyton/blob/main/3EjerciciosPhyton.ipynb\" target=\"_parent\"><img src=\"https://colab.research.google.com/assets/colab-badge.svg\" alt=\"Open In Colab\"/></a>"
      ]
    },
    {
      "cell_type": "markdown",
      "source": [],
      "metadata": {
        "id": "LEyRo2tx5TJ5"
      }
    },
    {
      "cell_type": "markdown",
      "source": [
        "1- Realiza un programa en Phyton que te permita capturar dos numeros enteros e imprimir la suma, resta, multiplicacion y la division de ambos\n",
        "\n",
        "2- Realizar un programa en Phyton mediante el cual calcules el total de caracteres que tiene un nombre capturado desde el teclado\n",
        "\n",
        "3- Realizar un programa en Phyton que permita imprimir los 7 dias de la semana"
      ],
      "metadata": {
        "id": "krGngpGu5QsL"
      }
    },
    {
      "cell_type": "code",
      "source": [
        "print(\"Ingresa tu nombre\")\n",
        "n=input(\"Tu nombre es\")\n",
        "total=len(n)\n",
        "print(\"El total de caracteres es \", total)"
      ],
      "metadata": {
        "id": "1BxSSyIJ8xTZ",
        "colab": {
          "base_uri": "https://localhost:8080/"
        },
        "outputId": "0915b15a-62bb-4f64-edf1-00494d7d3e8f"
      },
      "execution_count": 6,
      "outputs": [
        {
          "output_type": "stream",
          "name": "stdout",
          "text": [
            "Ingresa tu nombre\n",
            "Tu nombre esabril\n",
            "El total de caracteres es  5\n"
          ]
        }
      ]
    },
    {
      "cell_type": "code",
      "execution_count": 4,
      "metadata": {
        "colab": {
          "base_uri": "https://localhost:8080/"
        },
        "id": "i6beM0bm5Lie",
        "outputId": "e92d12e3-c52b-4e76-b73b-651e2c4a26d1"
      },
      "outputs": [
        {
          "output_type": "stream",
          "name": "stdout",
          "text": [
            "Ingresa los numeros\n",
            "Ingresa un numero2\n",
            "Ingresa un numero2\n",
            "La suma es\n",
            "4\n",
            "La resta es\n",
            "0\n",
            "La multuiplicacion es\n",
            "4\n",
            "La division es\n",
            "1.0\n"
          ]
        }
      ],
      "source": [
        "print(\"Ingresa los numeros\")\n",
        "n1 = int(input(\"Ingresa un numero\"))\n",
        "n2 = int(input(\"Ingresa un numero\"))\n",
        "print(\"La suma es\")\n",
        "print(n1 + n2)\n",
        "print(\"La resta es\")\n",
        "print(n1 - n2)\n",
        "print(\"La multuiplicacion es\")\n",
        "print(n1 * n2)\n",
        "print(\"La division es\")\n",
        "print(n1 / n2)"
      ]
    },
    {
      "cell_type": "code",
      "source": [
        "\n",
        "semana=[\"Lunes\", \"Martes\", \"Miercoles\",\"Jueves\",\"viernes\",\"Sabado\",\"Domingo\"]\n",
        "print (semana)"
      ],
      "metadata": {
        "id": "tK8Iehdv8lkC",
        "colab": {
          "base_uri": "https://localhost:8080/"
        },
        "outputId": "be394cad-7fb1-4755-91e4-9698b196717e"
      },
      "execution_count": 8,
      "outputs": [
        {
          "output_type": "stream",
          "name": "stdout",
          "text": [
            "['Lunes', 'Martes', 'Miercoles', 'Jueves', 'viernes', 'Sabado', 'Domingo']\n"
          ]
        }
      ]
    }
  ]
}